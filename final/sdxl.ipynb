{
 "cells": [
  {
   "cell_type": "code",
   "execution_count": null,
   "metadata": {},
   "outputs": [],
   "source": [
    "from diffusers import StableDiffusionXLPipeline, StableDiffusionXLImg2ImgPipeline\n",
    "import torch\n",
    "\n",
    "base = StableDiffusionXLPipeline.from_single_file(\n",
    "    \"./sd_xl_base_1.0.safetensors\", \n",
    "    # torch_dtype=torch.float16,\n",
    "    # variant=\"fp16\",\n",
    "    use_safetensors=True,\n",
    ")\n",
    "# base = StableDiffusionXLPipeline.from_pretrained(\n",
    "#     \"stabilityai/stable-diffusion-xl-base-1.0\", \n",
    "#     torch_dtype=torch.float16,\n",
    "#     variant=\"fp16\",\n",
    "#     use_safetensors=True,\n",
    "# )\n",
    "\n",
    "prompt = \"masterpiece, best quality, an alien, tentacles, inhuman anatomy, robe, in Goblin Valley, photorealistic, 8k, detailed, dramatic, moody\"\n",
    "neg_prompt = \"low res, ugly, bad hands, too many digits, bad teeth, blurry, blurred background\"\n",
    "image = base(prompt=prompt, negative_prompt=neg_prompt).images[0]\n",
    "image"
   ]
  },
  {
   "cell_type": "code",
   "execution_count": null,
   "metadata": {},
   "outputs": [],
   "source": [
    "refiner = StableDiffusionXLImg2ImgPipeline.from_pretrained(\n",
    "    \"stabilityai/stable-diffusion-xl-refiner-1.0\",\n",
    "    text_encoder_2=base.text_encoder_2,\n",
    "    vae=base.vae,\n",
    "    torch_dtype=torch.float16,\n",
    "    use_safetensors=True,\n",
    "    variant=\"fp16\"\n",
    ")"
   ]
  },
  {
   "cell_type": "code",
   "execution_count": null,
   "metadata": {},
   "outputs": [],
   "source": [
    "n_steps = 40\n",
    "high_noise_frac = 0.8\n",
    "use_refiner=True\n",
    "\n",
    "image = base(\n",
    "    prompt=prompt,\n",
    "    negative_prompt=neg_prompt,\n",
    "    num_inference_steps=n_steps,\n",
    "    denoising_end=high_noise_frac,\n",
    "    output_type=\"latent\" if use_refiner else \"pil\",\n",
    ").images[0]\n",
    "image = refiner(\n",
    "    prompt=prompt,\n",
    "    negative_prompt=neg_prompt,\n",
    "    num_inference_steps=n_steps,\n",
    "    denoising_start=high_noise_frac,\n",
    "    image=image[None, :],\n",
    ").images[0]\n",
    "image"
   ]
  }
 ],
 "metadata": {
  "kernelspec": {
   "display_name": "Python 3",
   "language": "python",
   "name": "python3"
  },
  "language_info": {
   "codemirror_mode": {
    "name": "ipython",
    "version": 3
   },
   "file_extension": ".py",
   "mimetype": "text/x-python",
   "name": "python",
   "nbconvert_exporter": "python",
   "pygments_lexer": "ipython3",
   "version": "3.11.4"
  },
  "orig_nbformat": 4
 },
 "nbformat": 4,
 "nbformat_minor": 2
}
