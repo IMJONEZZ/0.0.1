{
 "cells": [
  {
   "cell_type": "code",
   "execution_count": null,
   "metadata": {},
   "outputs": [],
   "source": [
    "from diffusers import StableDiffusionPipeline\n",
    "\n",
    "base = StableDiffusionPipeline.from_single_file('./mdjrny-v4.safetensors', use_safetensors=True) \n",
    "\n",
    "prompt = \"masterpiece, best quality, an alien, tentacles, inhuman anatomy, robe, in Goblin Valley, photorealistic, 8k, detailed, dramatic, moody\"\n",
    "neg_prompt = \"low res, ugly, bad hands, too many digits, bad teeth, blurry, blurred background\"\n",
    "image = base(prompt=prompt, negative_prompt=neg_prompt).images[0]\n",
    "image\n"
   ]
  },
  {
   "cell_type": "code",
   "execution_count": null,
   "metadata": {},
   "outputs": [],
   "source": []
  }
 ],
 "metadata": {
  "kernelspec": {
   "display_name": "Python 3",
   "language": "python",
   "name": "python3"
  },
  "language_info": {
   "codemirror_mode": {
    "name": "ipython",
    "version": 3
   },
   "file_extension": ".py",
   "mimetype": "text/x-python",
   "name": "python",
   "nbconvert_exporter": "python",
   "pygments_lexer": "ipython3",
   "version": "3.11.4"
  },
  "orig_nbformat": 4
 },
 "nbformat": 4,
 "nbformat_minor": 2
}
